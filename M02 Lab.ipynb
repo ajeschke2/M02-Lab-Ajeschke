{
 "cells": [
  {
   "cell_type": "code",
   "execution_count": 1,
   "id": "ccfbaf5d-986c-4d7e-af04-863eba076212",
   "metadata": {},
   "outputs": [
    {
     "name": "stdout",
     "output_type": "stream",
     "text": [
      "Enter the student's last name (or 'ZZZ' to quit):  Smith\n",
      "Enter the student's first name:  John\n",
      "Enter the student's GPA:  3.6\n"
     ]
    },
    {
     "name": "stdout",
     "output_type": "stream",
     "text": [
      "John Smith has made the Dean's List.\n"
     ]
    },
    {
     "name": "stdout",
     "output_type": "stream",
     "text": [
      "Enter the student's last name (or 'ZZZ' to quit):  Lee\n",
      "Enter the student's first name:  Jerry\n",
      "Enter the student's GPA:  3.4\n"
     ]
    },
    {
     "name": "stdout",
     "output_type": "stream",
     "text": [
      "Jerry Lee has made the Honor Roll.\n"
     ]
    },
    {
     "name": "stdout",
     "output_type": "stream",
     "text": [
      "Enter the student's last name (or 'ZZZ' to quit):  Rogers\n",
      "Enter the student's first name:  Chris\n",
      "Enter the student's GPA:  3.2\n"
     ]
    },
    {
     "name": "stdout",
     "output_type": "stream",
     "text": [
      "Chris Rogers did not qualify for the Dean's List or Honor Roll.\n"
     ]
    },
    {
     "name": "stdout",
     "output_type": "stream",
     "text": [
      "Enter the student's last name (or 'ZZZ' to quit):  Peters\n",
      "Enter the student's first name:  Jack\n",
      "Enter the student's GPA:  3.5\n"
     ]
    },
    {
     "name": "stdout",
     "output_type": "stream",
     "text": [
      "Jack Peters has made the Dean's List.\n"
     ]
    },
    {
     "name": "stdout",
     "output_type": "stream",
     "text": [
      "Enter the student's last name (or 'ZZZ' to quit):  Pascel\n",
      "Enter the student's first name:  Rhonda\n",
      "Enter the student's GPA:  3.3\n"
     ]
    },
    {
     "name": "stdout",
     "output_type": "stream",
     "text": [
      "Rhonda Pascel has made the Honor Roll.\n"
     ]
    },
    {
     "name": "stdout",
     "output_type": "stream",
     "text": [
      "Enter the student's last name (or 'ZZZ' to quit):  ZZZ\n"
     ]
    },
    {
     "name": "stdout",
     "output_type": "stream",
     "text": [
      "Exiting the program.\n",
      "All student records processed.\n"
     ]
    }
   ],
   "source": [
    "# Name: Ashley Jeschke\n",
    "# File Name: student_gpa_check.py\n",
    "# Description: This app collects student names and GPAs, then checks if they qualify \n",
    "#              for the Dean's List (GPA ≥ 3.5) or Honor Roll (GPA ≥ 3.25). \n",
    "#              The app continues accepting student records until 'ZZZ' is entered \n",
    "#              as a last name.\n",
    "\n",
    "while True:\n",
    "    last_name = input(\"Enter the student's last name (or 'ZZZ' to quit): \")\n",
    "    if last_name.upper() == \"ZZZ\":\n",
    "        print(\"Exiting the program.\")\n",
    "        break\n",
    "\n",
    "    first_name = input(\"Enter the student's first name: \")\n",
    "    \n",
    "    try:\n",
    "        gpa = float(input(\"Enter the student's GPA: \"))\n",
    "    except ValueError:\n",
    "        print(\"Invalid GPA. Please enter a numeric value.\")\n",
    "        continue\n",
    "\n",
    "    if gpa >= 3.5:\n",
    "        print(f\"{first_name} {last_name} has made the Dean's List.\")\n",
    "    elif gpa >= 3.25:\n",
    "        print(f\"{first_name} {last_name} has made the Honor Roll.\")\n",
    "    else:\n",
    "        print(f\"{first_name} {last_name} did not qualify for the Dean's List or Honor Roll.\")\n",
    "\n",
    "print(\"All student records processed.\")\n"
   ]
  },
  {
   "cell_type": "code",
   "execution_count": null,
   "id": "9f1b7521-3050-40c5-ad26-faa617bfe244",
   "metadata": {},
   "outputs": [],
   "source": []
  }
 ],
 "metadata": {
  "kernelspec": {
   "display_name": "Python [conda env:base] *",
   "language": "python",
   "name": "conda-base-py"
  },
  "language_info": {
   "codemirror_mode": {
    "name": "ipython",
    "version": 3
   },
   "file_extension": ".py",
   "mimetype": "text/x-python",
   "name": "python",
   "nbconvert_exporter": "python",
   "pygments_lexer": "ipython3",
   "version": "3.12.7"
  }
 },
 "nbformat": 4,
 "nbformat_minor": 5
}
